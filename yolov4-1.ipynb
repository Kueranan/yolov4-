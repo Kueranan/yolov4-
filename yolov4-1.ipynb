{
 "cells": [
  {
   "attachments": {},
   "cell_type": "markdown",
   "metadata": {},
   "source": [
    "Install roboflow for pull Api Data  from wed roboflow "
   ]
  },
  {
   "cell_type": "code",
   "execution_count": 2,
   "metadata": {},
   "outputs": [
    {
     "name": "stdout",
     "output_type": "stream",
     "text": [
      "\u001b[34mdarknet\u001b[m\u001b[m/\n"
     ]
    }
   ],
   "source": [
    "\n",
    "!pip install roboflow\n",
    "\n",
    "from roboflow import Roboflow\n",
    "rf = Roboflow(api_key=\"12ivxh60TPOgu54wVGoL\")\n",
    "project = rf.workspace(\"sicktomato\").project(\"sicktomato\")\n",
    "dataset = project.version(1).download(\"darknet\") "
   ]
  },
  {
   "attachments": {},
   "cell_type": "markdown",
   "metadata": {},
   "source": [
    "Change file image to txt "
   ]
  },
  {
   "cell_type": "code",
   "execution_count": null,
   "metadata": {},
   "outputs": [],
   "source": [
    "import os\n",
    "\n",
    "path_trian = \"/content/drive/MyDrive/yolov4/darknet/sicktomato-1/train\"\n",
    "path_valid = \"/content/drive/MyDrive/yolov4/darknet/sicktomato-1/valid\"\n",
    "\n",
    "file_train = open('/content/drive/MyDrive/yolov4/darknet/sicktomato-1/trainn.txt', 'w')\n",
    "file_valid = open('/content/drive/MyDrive/yolov4/darknet/sicktomato-1/validd.txt', 'w')\n",
    "\n",
    "for dirname in os.listdir(path_trian):\n",
    "  if dirname[-1]=='g':\n",
    "    file_train.write(path_trian+\"/\"+ dirname + \"\\n\")\n",
    "for dirname in os.listdir(path_valid):\n",
    "  if dirname[-1]=='g':\n",
    "    file_valid.write(path_valid+\"/\" + dirname + \"\\n\")"
   ]
  },
  {
   "cell_type": "code",
   "execution_count": null,
   "metadata": {},
   "outputs": [],
   "source": [
    "\n",
    "!sed -i 's/OPENCV=0/OPENCV=1/g' Makefile\n",
    "!sed -i 's/GPU=0/GPU=1/g' Makefile\n",
    "!sed -i 's/CUDNN=0/CUDNN=1/g' Makefile\n",
    "!sed -i 's/CUDNN_HALF=0/CUDNN_HALF=1/g' Makefile\n",
    "!sed -i 's/LIBSO=0/LIBSO=1/g' Makefile\n",
    "!apt update\n",
    "!apt-get install libopencv-dev "
   ]
  },
  {
   "attachments": {},
   "cell_type": "markdown",
   "metadata": {},
   "source": [
    "Download Pre-train "
   ]
  },
  {
   "cell_type": "code",
   "execution_count": null,
   "metadata": {},
   "outputs": [],
   "source": [
    "!wget https://github.com/AlexeyAB/darknet/releases/download/darknet_yolo_v3_optimal/yolov4.conv.137"
   ]
  },
  {
   "cell_type": "code",
   "execution_count": null,
   "metadata": {},
   "outputs": [],
   "source": [
    "!./darknet detector  train \n",
    "/content/drive/MyDrive/yolov4/darknet/sicktomato-1/odj.data \n",
    "cfg/yolov4.cfg yolov4.conv.137 -dont_show -map"
   ]
  },
  {
   "attachments": {},
   "cell_type": "markdown",
   "metadata": {},
   "source": [
    "To restart your training (In case the training does not finish and you get disconnected)"
   ]
  },
  {
   "cell_type": "code",
   "execution_count": null,
   "metadata": {},
   "outputs": [],
   "source": [
    "\n",
    "!./darknet detector train data/obj.data cfg/yolov4-custom.cfg\n",
    "/mydrive/yolov4/training/yolov4-custom_last.weights \n",
    "-dont_show -map"
   ]
  },
  {
   "attachments": {},
   "cell_type": "markdown",
   "metadata": {},
   "source": [
    "Detecter"
   ]
  },
  {
   "cell_type": "code",
   "execution_count": null,
   "metadata": {},
   "outputs": [],
   "source": [
    "!./darknet detector map data/obj.data cfg/yolov4-custom.cfg\n",
    "/mydrive/yolov4/training/yolov4-custom_final.weights -points 0"
   ]
  }
 ],
 "metadata": {
  "kernelspec": {
   "display_name": "Python 3",
   "language": "python",
   "name": "python3"
  },
  "language_info": {
   "codemirror_mode": {
    "name": "ipython",
    "version": 3
   },
   "file_extension": ".py",
   "mimetype": "text/x-python",
   "name": "python",
   "nbconvert_exporter": "python",
   "pygments_lexer": "ipython3",
   "version": "3.9.6"
  },
  "orig_nbformat": 4
 },
 "nbformat": 4,
 "nbformat_minor": 2
}
